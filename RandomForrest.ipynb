{
 "cells": [
  {
   "metadata": {
    "ExecuteTime": {
     "end_time": "2024-11-24T17:43:27.502599Z",
     "start_time": "2024-11-24T17:43:27.495383Z"
    }
   },
   "cell_type": "code",
   "source": [
    "# Data source\n",
    "\n",
    "# P. Cortez, A. Cerdeira, F. Almeida, T. Matos and J. Reis.\n",
    "#   Modeling wine preferences by data mining from physicochemical properties.\n",
    "#   In Decision Support Systems, Elsevier, 47(4):547-553. ISSN: 0167-9236.\n",
    "#\n",
    "#   Available at: [@Elsevier] http://dx.doi.org/10.1016/j.dss.2009.05.016\n",
    "#                 [Pre-press (pdf)] http://www3.dsi.uminho.pt/pcortez/winequality09.pdf\n",
    "#                 [bib] http://www3.dsi.uminho.pt/pcortez/dss09.bib\n"
   ],
   "id": "ac51e753710e2b8e",
   "outputs": [],
   "execution_count": 6
  },
  {
   "metadata": {
    "ExecuteTime": {
     "end_time": "2024-11-24T17:43:27.551606Z",
     "start_time": "2024-11-24T17:43:27.543094Z"
    }
   },
   "cell_type": "code",
   "source": [
    "# Imports\n",
    "\n",
    "import numpy as np\n",
    "import matplotlib.pyplot as plt\n",
    "import pandas as pd"
   ],
   "id": "2b118a7998829983",
   "outputs": [],
   "execution_count": 7
  },
  {
   "metadata": {
    "ExecuteTime": {
     "end_time": "2024-11-24T17:44:55.965584Z",
     "start_time": "2024-11-24T17:44:55.936466Z"
    }
   },
   "cell_type": "code",
   "source": [
    "# Get data from csv file\n",
    "\n",
    "red_data = pd.read_csv(\"wine+quality/winequality-red.csv\", sep = \";\", header = 0)\n",
    "white_data = pd.read_csv(\"wine+quality/winequality-white.csv\", sep = \";\", header = 0)\n",
    "\n",
    "print(red_data.columns)\n",
    "print(red_data.values)\n",
    "print(white_data.values)"
   ],
   "id": "42f805490bcda76b",
   "outputs": [
    {
     "name": "stdout",
     "output_type": "stream",
     "text": [
      "Index(['fixed acidity', 'volatile acidity', 'citric acid', 'residual sugar',\n",
      "       'chlorides', 'free sulfur dioxide', 'total sulfur dioxide', 'density',\n",
      "       'pH', 'sulphates', 'alcohol', 'quality'],\n",
      "      dtype='object')\n",
      "[[ 7.4    0.7    0.    ...  0.56   9.4    5.   ]\n",
      " [ 7.8    0.88   0.    ...  0.68   9.8    5.   ]\n",
      " [ 7.8    0.76   0.04  ...  0.65   9.8    5.   ]\n",
      " ...\n",
      " [ 6.3    0.51   0.13  ...  0.75  11.     6.   ]\n",
      " [ 5.9    0.645  0.12  ...  0.71  10.2    5.   ]\n",
      " [ 6.     0.31   0.47  ...  0.66  11.     6.   ]]\n",
      "[[ 7.    0.27  0.36 ...  0.45  8.8   6.  ]\n",
      " [ 6.3   0.3   0.34 ...  0.49  9.5   6.  ]\n",
      " [ 8.1   0.28  0.4  ...  0.44 10.1   6.  ]\n",
      " ...\n",
      " [ 6.5   0.24  0.19 ...  0.46  9.4   6.  ]\n",
      " [ 5.5   0.29  0.3  ...  0.38 12.8   7.  ]\n",
      " [ 6.    0.21  0.38 ...  0.32 11.8   6.  ]]\n"
     ]
    }
   ],
   "execution_count": 10
  },
  {
   "metadata": {
    "ExecuteTime": {
     "end_time": "2024-11-24T17:43:27.357555Z",
     "start_time": "2024-11-24T17:43:27.351007Z"
    }
   },
   "cell_type": "code",
   "source": [
    "# Clean data\n",
    "\n"
   ],
   "id": "665b1ac34870b629",
   "outputs": [],
   "execution_count": 4
  },
  {
   "metadata": {
    "ExecuteTime": {
     "end_time": "2024-11-24T17:43:27.412360Z",
     "start_time": "2024-11-24T17:43:27.405194Z"
    }
   },
   "cell_type": "code",
   "source": [
    "# Split test data from training data\n",
    "\n"
   ],
   "id": "7621be3ac00b6b36",
   "outputs": [],
   "execution_count": 5
  },
  {
   "metadata": {
    "ExecuteTime": {
     "end_time": "2024-11-24T17:43:27.457107Z",
     "start_time": "2024-11-24T17:43:27.452279Z"
    }
   },
   "cell_type": "code",
   "source": "",
   "id": "8f80d4918c3e10b9",
   "outputs": [],
   "execution_count": null
  }
 ],
 "metadata": {
  "kernelspec": {
   "name": "python3",
   "language": "python",
   "display_name": "Python 3 (ipykernel)"
  }
 },
 "nbformat": 5,
 "nbformat_minor": 9
}
